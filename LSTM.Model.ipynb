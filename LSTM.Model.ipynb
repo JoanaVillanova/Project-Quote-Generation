{
  "nbformat": 4,
  "nbformat_minor": 0,
  "metadata": {
    "colab": {
      "provenance": [],
      "gpuType": "T4",
      "machine_shape": "hm"
    },
    "kernelspec": {
      "name": "python3",
      "display_name": "Python 3"
    },
    "language_info": {
      "name": "python"
    },
    "accelerator": "GPU"
  },
  "cells": [
    {
      "cell_type": "code",
      "source": [
        "import pandas as pd\n",
        "import numpy as np\n",
        "import re\n",
        "import nltk\n",
        "from keras.preprocessing.text import Tokenizer\n",
        "from keras.preprocessing.sequence import pad_sequences\n",
        "from keras.models import Sequential\n",
        "from keras.layers import Embedding, LSTM, Dense, Dropout, Bidirectional\n",
        "from keras.callbacks import EarlyStopping, ReduceLROnPlateau\n",
        "from keras.utils import to_categorical\n",
        "from google.colab import drive\n",
        "nltk.download('stopwords')\n",
        "from nltk.corpus import stopwords"
      ],
      "metadata": {
        "colab": {
          "base_uri": "https://localhost:8080/"
        },
        "id": "l-rIacBZQn8w",
        "outputId": "1be4b8ef-d62e-4efd-d0b4-f4e4fa70578e"
      },
      "execution_count": 1,
      "outputs": [
        {
          "output_type": "stream",
          "name": "stderr",
          "text": [
            "[nltk_data] Downloading package stopwords to /root/nltk_data...\n",
            "[nltk_data]   Unzipping corpora/stopwords.zip.\n"
          ]
        }
      ]
    },
    {
      "cell_type": "code",
      "source": [
        "from google.colab import drive\n",
        "\n",
        "# Mount Google Drive\n",
        "drive.mount('/content/drive')"
      ],
      "metadata": {
        "colab": {
          "base_uri": "https://localhost:8080/"
        },
        "id": "q1aZlN_QnJtx",
        "outputId": "788ec7a5-4526-4dff-eca8-8655955eb5b0"
      },
      "execution_count": 2,
      "outputs": [
        {
          "output_type": "stream",
          "name": "stdout",
          "text": [
            "Mounted at /content/drive\n"
          ]
        }
      ]
    },
    {
      "cell_type": "code",
      "execution_count": 3,
      "metadata": {
        "id": "alDWUW5y3aa2"
      },
      "outputs": [],
      "source": [
        "from google.colab import files\n",
        "\n",
        "# Specify the path to the file you want to download\n",
        "file_path = '/content/drive/MyDrive/quotes.csv'\n"
      ]
    },
    {
      "cell_type": "code",
      "source": [
        "# Read the CSV file into a pandas DataFrame\n",
        "df = pd.read_csv(file_path)"
      ],
      "metadata": {
        "id": "4QvfgESkROfe"
      },
      "execution_count": 4,
      "outputs": []
    },
    {
      "cell_type": "code",
      "source": [
        "# Display the column names\n",
        "print(\"Column Names:\")\n",
        "print(df.columns)\n",
        "\n",
        "# Display the first few rows of the DataFrame\n",
        "print(\"\\nFirst few rows:\")\n",
        "print(df.head())\n"
      ],
      "metadata": {
        "colab": {
          "base_uri": "https://localhost:8080/"
        },
        "id": "oeAfhiWERIkq",
        "outputId": "b9c81824-4d88-41c0-c7f5-9ded6698fb2f"
      },
      "execution_count": 5,
      "outputs": [
        {
          "output_type": "stream",
          "name": "stdout",
          "text": [
            "Column Names:\n",
            "Index(['quote', 'author', 'category'], dtype='object')\n",
            "\n",
            "First few rows:\n",
            "                                               quote  \\\n",
            "0  I'm selfish, impatient and a little insecure. ...   \n",
            "1  You've gotta dance like there's nobody watchin...   \n",
            "2  You know you're in love when you can't fall as...   \n",
            "3  A friend is someone who knows all about you an...   \n",
            "4  Darkness cannot drive out darkness: only light...   \n",
            "\n",
            "                                              author  \\\n",
            "0                                     Marilyn Monroe   \n",
            "1                                  William W. Purkey   \n",
            "2                                          Dr. Seuss   \n",
            "3                                     Elbert Hubbard   \n",
            "4  Martin Luther King Jr., A Testament of Hope: T...   \n",
            "\n",
            "                                            category  \n",
            "0  attributed-no-source, best, life, love, mistak...  \n",
            "1  dance, heaven, hurt, inspirational, life, love...  \n",
            "2  attributed-no-source, dreams, love, reality, s...  \n",
            "3                friend, friendship, knowledge, love  \n",
            "4  darkness, drive-out, hate, inspirational, ligh...  \n"
          ]
        }
      ]
    },
    {
      "cell_type": "code",
      "source": [
        "num_rows = df.shape[0]\n",
        "print(\"Number of rows in the DataFrame:\", num_rows)"
      ],
      "metadata": {
        "colab": {
          "base_uri": "https://localhost:8080/"
        },
        "id": "I90LGwywmUEF",
        "outputId": "085a2f8c-c2c1-4d54-8734-105a0d6a1d3a"
      },
      "execution_count": 6,
      "outputs": [
        {
          "output_type": "stream",
          "name": "stdout",
          "text": [
            "Number of rows in the DataFrame: 499709\n"
          ]
        }
      ]
    },
    {
      "cell_type": "code",
      "source": [
        "# Limit the dataset to 5000 rows\n",
        "df = df.sample(1000)"
      ],
      "metadata": {
        "id": "G4Z6hk7JRatn"
      },
      "execution_count": 7,
      "outputs": []
    },
    {
      "cell_type": "code",
      "source": [
        "quotes = df['quote'].drop_duplicates().dropna()\n",
        "print(f\"Total Unique Quotes: {quotes.shape[0]}\")\n"
      ],
      "metadata": {
        "colab": {
          "base_uri": "https://localhost:8080/"
        },
        "id": "Z3qCFEuZSGzg",
        "outputId": "644e13d1-fbbb-4003-b8ad-2825ec458102"
      },
      "execution_count": 8,
      "outputs": [
        {
          "output_type": "stream",
          "name": "stdout",
          "text": [
            "Total Unique Quotes: 1000\n"
          ]
        }
      ]
    },
    {
      "cell_type": "code",
      "source": [
        "# Considering only top 3000 quotes\n",
        "if quotes.shape[0] > 1000:\n",
        "    quotes_filt = quotes.sample(1000)\n",
        "else:\n",
        "    quotes_filt = quotes"
      ],
      "metadata": {
        "id": "QweYGcFXS52n"
      },
      "execution_count": 9,
      "outputs": []
    },
    {
      "cell_type": "code",
      "source": [
        "print(f\"Filtered Quotes: {quotes_filt.shape[0]}\")\n",
        "all_quotes = list(quotes_filt)\n",
        "print(all_quotes[:2])"
      ],
      "metadata": {
        "colab": {
          "base_uri": "https://localhost:8080/"
        },
        "id": "YM0pxNeUT27_",
        "outputId": "da5c3241-d54d-4e1e-a747-0480067d8ade"
      },
      "execution_count": 10,
      "outputs": [
        {
          "output_type": "stream",
          "name": "stdout",
          "text": [
            "Filtered Quotes: 1000\n",
            "['Crushes are so awful. I wonder if they suck worse for the crush-er or the crush-ee. I consider my three years of watching Josh from afar. Yeah, definitely the crush-er.', 'Sometimes, the way around prejudice is education.']\n"
          ]
        }
      ]
    },
    {
      "cell_type": "code",
      "source": [
        "# Preprocessing function to clean the text\n",
        "def preprocess_text(text):\n",
        "    # Remove punctuation\n",
        "    text = re.sub(r'[^\\w\\s]', '', text)\n",
        "    # Convert to lowercase\n",
        "    text = text.lower()\n",
        "    # Remove stop words\n",
        "    stop_words = set(stopwords.words('english'))\n",
        "    text = ' '.join([word for word in text.split() if word not in stop_words])\n",
        "    return text"
      ],
      "metadata": {
        "id": "zMMeMrvyUAve"
      },
      "execution_count": 11,
      "outputs": []
    },
    {
      "cell_type": "code",
      "source": [
        "# Apply preprocessing to all quotes\n",
        "all_quotes = [preprocess_text(quote) for quote in all_quotes]"
      ],
      "metadata": {
        "id": "8IY-hZWaUHPC"
      },
      "execution_count": 12,
      "outputs": []
    },
    {
      "cell_type": "code",
      "source": [
        "# Tokenization\n",
        "tokenizer = Tokenizer()"
      ],
      "metadata": {
        "id": "g_Ic9RXEUWtO"
      },
      "execution_count": 13,
      "outputs": []
    },
    {
      "cell_type": "code",
      "source": [
        "# Function to create the sequences\n",
        "def generate_sequences(corpus):\n",
        "    tokenizer.fit_on_texts(corpus)\n",
        "    total_words = len(tokenizer.word_index) + 1\n",
        "    print(f\"Total unique words in the text corpus: {total_words}\")\n",
        "    input_sequences = []\n",
        "    for line in corpus:\n",
        "        seq = tokenizer.texts_to_sequences([line])[0]\n",
        "        for i in range(1, len(seq)):\n",
        "            ngram_seq = seq[:i+1]\n",
        "            input_sequences.append(ngram_seq)\n",
        "    return input_sequences, total_words"
      ],
      "metadata": {
        "id": "i0i6LTvuUM2r"
      },
      "execution_count": 15,
      "outputs": []
    },
    {
      "cell_type": "code",
      "source": [
        "# Generating sequences\n",
        "input_sequences, total_words = generate_sequences(all_quotes)\n",
        "input_sequences[:5]"
      ],
      "metadata": {
        "colab": {
          "base_uri": "https://localhost:8080/"
        },
        "id": "K7thz5B9UORT",
        "outputId": "68fe3bb8-133e-4370-abec-3f7679386839"
      },
      "execution_count": 16,
      "outputs": [
        {
          "output_type": "stream",
          "name": "stdout",
          "text": [
            "Total unique words in the text corpus: 6450\n"
          ]
        },
        {
          "output_type": "execute_result",
          "data": {
            "text/plain": [
              "[[2360, 1418],\n",
              " [2360, 1418, 605],\n",
              " [2360, 1418, 605, 1419],\n",
              " [2360, 1418, 605, 1419, 503],\n",
              " [2360, 1418, 605, 1419, 503, 1420]]"
            ]
          },
          "metadata": {},
          "execution_count": 16
        }
      ]
    },
    {
      "cell_type": "code",
      "source": [
        "# Function to create the sequences\n",
        "def generate_sequences(corpus, max_quotes=1000):\n",
        "    tokenizer.fit_on_texts(corpus)\n",
        "    total_words = len(tokenizer.word_index) + 1\n",
        "    print(f\"Total unique words in the text corpus: {total_words}\")\n",
        "    input_sequences = []\n",
        "\n",
        "    # Limit corpus to max_quotes\n",
        "    corpus = corpus[:max_quotes]\n",
        "\n",
        "    for line in corpus:\n",
        "        seq = tokenizer.texts_to_sequences([line])[0]\n",
        "        for i in range(1, len(seq)):\n",
        "            ngram_seq = seq[:i+1]\n",
        "            input_sequences.append(ngram_seq)\n",
        "\n",
        "    return input_sequences, total_words\n"
      ],
      "metadata": {
        "id": "WosrMVHFrroN"
      },
      "execution_count": 18,
      "outputs": []
    },
    {
      "cell_type": "code",
      "source": [
        "# Generating predictors and labels from the padded sequences\n",
        "def generate_input_sequence(input_sequences):\n",
        "    maxlen = max([len(x) for x in input_sequences])\n",
        "    input_sequences = pad_sequences(input_sequences, maxlen=maxlen)\n",
        "    predictors, label = input_sequences[:, :-1], input_sequences[:, -1]\n",
        "    label = to_categorical(label, num_classes=total_words)\n",
        "    return predictors, label, maxlen\n",
        "\n",
        "predictors, label, maxlen = generate_input_sequence(input_sequences)\n",
        "print(f\"Predictors shape: {predictors.shape}\")\n",
        "print(f\"Label shape: {label.shape}\")"
      ],
      "metadata": {
        "colab": {
          "base_uri": "https://localhost:8080/"
        },
        "id": "15Nd7gUnUY36",
        "outputId": "16e5aaa9-fc1d-4c36-c574-e125a8b1c62e"
      },
      "execution_count": 19,
      "outputs": [
        {
          "output_type": "stream",
          "name": "stdout",
          "text": [
            "Predictors shape: (17091, 272)\n",
            "Label shape: (17091, 6450)\n"
          ]
        }
      ]
    },
    {
      "cell_type": "code",
      "source": [
        "# Building the model\n",
        "embedding_dim = 64\n",
        "\n",
        "def create_model(maxlen, embedding_dim, total_words):\n",
        "    model = Sequential()\n",
        "    model.add(Embedding(total_words, embedding_dim, input_length=maxlen-1))\n",
        "    model.add(Bidirectional(LSTM(128, return_sequences=True)))\n",
        "    model.add(Dropout(0.2))\n",
        "    model.add(LSTM(128))\n",
        "    model.add(Dense(total_words, activation='softmax'))\n",
        "\n",
        "    # compiling the model\n",
        "    model.compile(loss='categorical_crossentropy', optimizer='adam', metrics=['accuracy'])\n",
        "    return model\n",
        "\n",
        "model = create_model(maxlen, embedding_dim, total_words)\n",
        "model.summary()"
      ],
      "metadata": {
        "colab": {
          "base_uri": "https://localhost:8080/"
        },
        "id": "JvN8wM2RUffX",
        "outputId": "9a6ac314-d9d5-409f-d85c-dc5b7a1d629c"
      },
      "execution_count": 20,
      "outputs": [
        {
          "output_type": "stream",
          "name": "stdout",
          "text": [
            "Model: \"sequential\"\n",
            "_________________________________________________________________\n",
            " Layer (type)                Output Shape              Param #   \n",
            "=================================================================\n",
            " embedding (Embedding)       (None, 272, 64)           412800    \n",
            "                                                                 \n",
            " bidirectional (Bidirection  (None, 272, 256)          197632    \n",
            " al)                                                             \n",
            "                                                                 \n",
            " dropout (Dropout)           (None, 272, 256)          0         \n",
            "                                                                 \n",
            " lstm_1 (LSTM)               (None, 128)               197120    \n",
            "                                                                 \n",
            " dense (Dense)               (None, 6450)              832050    \n",
            "                                                                 \n",
            "=================================================================\n",
            "Total params: 1639602 (6.25 MB)\n",
            "Trainable params: 1639602 (6.25 MB)\n",
            "Non-trainable params: 0 (0.00 Byte)\n",
            "_________________________________________________________________\n"
          ]
        }
      ]
    },
    {
      "cell_type": "code",
      "source": [
        "# Training the model\n",
        "history= model.fit(predictors, label, epochs=10, batch_size=32, validation_split=0.2, verbose=1)"
      ],
      "metadata": {
        "colab": {
          "base_uri": "https://localhost:8080/"
        },
        "id": "kQJBHTxZUs4_",
        "outputId": "4ea6e44b-cbf7-48e0-a729-3ecf3376d241"
      },
      "execution_count": 21,
      "outputs": [
        {
          "output_type": "stream",
          "name": "stdout",
          "text": [
            "Epoch 1/10\n",
            "428/428 [==============================] - 71s 152ms/step - loss: 8.4350 - accuracy: 0.0056 - val_loss: 8.4125 - val_accuracy: 0.0076\n",
            "Epoch 2/10\n",
            "428/428 [==============================] - 34s 80ms/step - loss: 7.9685 - accuracy: 0.0067 - val_loss: 8.6486 - val_accuracy: 0.0064\n",
            "Epoch 3/10\n",
            "428/428 [==============================] - 25s 59ms/step - loss: 7.8099 - accuracy: 0.0067 - val_loss: 8.9153 - val_accuracy: 0.0076\n",
            "Epoch 4/10\n",
            "428/428 [==============================] - 21s 48ms/step - loss: 7.6985 - accuracy: 0.0067 - val_loss: 9.1184 - val_accuracy: 0.0070\n",
            "Epoch 5/10\n",
            "428/428 [==============================] - 19s 44ms/step - loss: 7.5705 - accuracy: 0.0074 - val_loss: 9.2758 - val_accuracy: 0.0056\n",
            "Epoch 6/10\n",
            "428/428 [==============================] - 18s 42ms/step - loss: 7.4210 - accuracy: 0.0075 - val_loss: 9.5140 - val_accuracy: 0.0070\n",
            "Epoch 7/10\n",
            "428/428 [==============================] - 18s 42ms/step - loss: 7.2608 - accuracy: 0.0086 - val_loss: 9.6149 - val_accuracy: 0.0076\n",
            "Epoch 8/10\n",
            "428/428 [==============================] - 17s 39ms/step - loss: 7.0677 - accuracy: 0.0094 - val_loss: 9.8382 - val_accuracy: 0.0041\n",
            "Epoch 9/10\n",
            "428/428 [==============================] - 17s 41ms/step - loss: 6.8639 - accuracy: 0.0114 - val_loss: 9.9287 - val_accuracy: 0.0064\n",
            "Epoch 10/10\n",
            "428/428 [==============================] - 16s 38ms/step - loss: 6.6325 - accuracy: 0.0134 - val_loss: 10.1578 - val_accuracy: 0.0035\n"
          ]
        }
      ]
    },
    {
      "cell_type": "code",
      "source": [
        "# Function to generate quote based on input category with temperature sampling\n",
        "def generate_quote(seed_text, next_words, max_sequence_len, temperature=1.0):\n",
        "    for _ in range(next_words):\n",
        "        token_list = tokenizer.texts_to_sequences([seed_text])[0]\n",
        "        token_list = pad_sequences([token_list], maxlen=max_sequence_len-1, padding='pre')\n",
        "        predicted = model.predict(token_list, verbose=0)\n",
        "        predicted = predicted.astype(\"float64\")\n",
        "        predicted = np.log(predicted + 1e-7) / temperature\n",
        "        exp_preds = np.exp(predicted)\n",
        "        predicted = exp_preds / np.sum(exp_preds)\n",
        "        probas = np.random.multinomial(1, predicted[0], 1)\n",
        "        output_word = tokenizer.index_word[np.argmax(probas)]\n",
        "        seed_text += \" \" + output_word\n",
        "    return seed_text"
      ],
      "metadata": {
        "id": "pn4YAHUHhF24"
      },
      "execution_count": 22,
      "outputs": []
    },
    {
      "cell_type": "code",
      "source": [
        "# Example usage\n",
        "seed_text = \"friend\"\n",
        "print(\"Generated Quote:\", generate_quote(seed_text, next_words=19, max_sequence_len=maxlen))"
      ],
      "metadata": {
        "colab": {
          "base_uri": "https://localhost:8080/"
        },
        "id": "QOY-yNKyiuEr",
        "outputId": "006251c0-c781-40bf-8bcb-b84a55a140fe"
      },
      "execution_count": 24,
      "outputs": [
        {
          "output_type": "stream",
          "name": "stdout",
          "text": [
            "Generated Quote: friend pray take love questions unless could understand taken found exactly memory reach life keep kill awareness necessary regarding beauties\n"
          ]
        }
      ]
    },
    {
      "cell_type": "code",
      "source": [
        "# Example usage\n",
        "seed_text = \"love\"\n",
        "print(\"Generated Quote:\", generate_quote(seed_text, next_words=13, max_sequence_len=maxlen))"
      ],
      "metadata": {
        "colab": {
          "base_uri": "https://localhost:8080/"
        },
        "id": "yFG25bRMyUvp",
        "outputId": "ab68436a-6109-4dfc-a67c-0663c70419a1"
      },
      "execution_count": 27,
      "outputs": [
        {
          "output_type": "stream",
          "name": "stdout",
          "text": [
            "Generated Quote: love began head precedes though us taught inside world keep prayer change grant ability\n"
          ]
        }
      ]
    },
    {
      "cell_type": "code",
      "source": [
        "import matplotlib.pyplot as plt\n",
        "# Plot training & validation loss values\n",
        "plt.figure(figsize=(10, 6))\n",
        "plt.plot(history.history['loss'], label='Training Loss')\n",
        "plt.plot(history.history['val_loss'], label='Validation Loss')\n",
        "plt.title('Model Loss')\n",
        "plt.xlabel('Epoch')\n",
        "plt.ylabel('Loss')\n",
        "plt.legend()\n",
        "plt.grid(True)\n",
        "plt.show()"
      ],
      "metadata": {
        "colab": {
          "base_uri": "https://localhost:8080/",
          "height": 564
        },
        "id": "HLN401FOq6Nf",
        "outputId": "06cc3622-74d0-4dbd-dc21-7c6712167358"
      },
      "execution_count": 26,
      "outputs": [
        {
          "output_type": "display_data",
          "data": {
            "text/plain": [
              "<Figure size 1000x600 with 1 Axes>"
            ],
            "image/png": "[encoded data removed]"
          },
          "metadata": {}
        }
      ]
    },
    {
      "cell_type": "code",
      "source": [
        "# Plot training & validation accuracy values\n",
        "plt.figure(figsize=(10, 6))\n",
        "plt.plot(history.history['accuracy'], label='Training Accuracy')\n",
        "plt.plot(history.history['val_accuracy'], label='Validation Accuracy')\n",
        "plt.title('Model Accuracy')\n",
        "plt.xlabel('Epoch')\n",
        "plt.ylabel('Accuracy')\n",
        "plt.legend()\n",
        "plt.grid(True)\n",
        "plt.show()"
      ],
      "metadata": {
        "colab": {
          "base_uri": "https://localhost:8080/",
          "height": 564
        },
        "id": "AXvzSuXWtn_v",
        "outputId": "4b68a6c7-0320-4560-e285-8c53a0e2f23a"
      },
      "execution_count": 27,
      "outputs": [
        {
          "output_type": "display_data",
          "data": {
            "text/plain": [
              "<Figure size 1000x600 with 1 Axes>"
            ],
            "image/png": "[encoded data removed]"
          },
          "metadata": {}
        }
      ]
    }
  ]
}